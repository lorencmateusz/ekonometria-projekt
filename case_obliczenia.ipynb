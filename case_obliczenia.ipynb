{
  "nbformat": 4,
  "nbformat_minor": 0,
  "metadata": {
    "colab": {
      "provenance": [],
      "toc_visible": true,
      "authorship_tag": "ABX9TyPkNDcSIy4cFpbZuSKRlFYo"
    },
    "kernelspec": {
      "name": "python3",
      "display_name": "Python 3"
    },
    "language_info": {
      "name": "python"
    }
  },
  "cells": [
    {
      "cell_type": "markdown",
      "source": [
        "# Ekonometria - Case Study\n",
        "Obliczenia dla studium przypadku\n"
      ],
      "metadata": {
        "id": "twIpZCo14r3D"
      }
    },
    {
      "cell_type": "markdown",
      "source": [
        "### Przygotowanie\n"
      ],
      "metadata": {
        "id": "2UlSPdpM5odJ"
      }
    },
    {
      "cell_type": "markdown",
      "source": [
        "Instalacja i importowanie bibliotek (część jest już domyślnie zainstalowana przez Google)\n",
        "\n",
        "**Wykorzystane biblioteki i zastosowanie:**\n",
        "\n",
        "**pandas** - do pracy z danymi, w tym przypadku konkretnie do przechowywania danych w formie dwuwymiarowej tabeli\n",
        "\n",
        "**sklearn** - zestaw narzędzi do realizacji zadań nauczania maszynowego, tutaj wykorzystano tylko model regresji liniowej\n",
        "\n",
        "**statsmodels** - pozwala przeprowadzać obliczenia i testy statystyczne; tak jak sklearn pozwoli przeprowadzić estymację parametrów KMNK, ale tutaj dodatkowo można wygenerować statystyczne podsumowanie modelu"
      ],
      "metadata": {
        "id": "scPVRlT_3a9q"
      }
    },
    {
      "cell_type": "code",
      "execution_count": null,
      "metadata": {
        "id": "SmPRqobRsN71",
        "colab": {
          "base_uri": "https://localhost:8080/",
          "height": 130
        },
        "outputId": "f951a204-c49c-4487-c112-e4065184cd88"
      },
      "outputs": [
        {
          "output_type": "error",
          "ename": "SyntaxError",
          "evalue": "ignored",
          "traceback": [
            "\u001b[0;36m  File \u001b[0;32m\"<ipython-input-47-de060014e276>\"\u001b[0;36m, line \u001b[0;32m2\u001b[0m\n\u001b[0;31m    pip install sklearn\u001b[0m\n\u001b[0m        ^\u001b[0m\n\u001b[0;31mSyntaxError\u001b[0m\u001b[0;31m:\u001b[0m invalid syntax\n"
          ]
        }
      ],
      "source": [
        "# ten fragment jest uruchamiany tylko jeden raz - przy tworzeniu projektu\n",
        "pip install sklearn\n",
        "pip install statsmodels"
      ]
    },
    {
      "cell_type": "code",
      "source": [
        "import pandas as pd\n",
        "from sklearn.linear_model import LinearRegression\n",
        "import statsmodels.api as sm"
      ],
      "metadata": {
        "id": "Ilsb_Oe04V1n"
      },
      "execution_count": null,
      "outputs": []
    },
    {
      "cell_type": "markdown",
      "source": [
        "# Meta (Facebook)\n",
        "**Studium Przypadku - Finalne**"
      ],
      "metadata": {
        "id": "cC1qIsBx3ATm"
      }
    },
    {
      "cell_type": "markdown",
      "source": [
        "## Przygotowanie danych:"
      ],
      "metadata": {
        "id": "V3qEx0uELvCT"
      }
    },
    {
      "cell_type": "code",
      "source": [
        "# dane pochodzące z treści zadania\n",
        "\n",
        "dane2009_2017 = {'indeks_roku': [1,2,3,4,5,6,7,8,9],\n",
        "        'przychod': [777,1974,3711,5089,7872,12466,17928,27638,40653],\n",
        "        'zysk': [229,606,1000,53,1500,2940,3688,10217,15934],\n",
        "        'zatrudnienie': [1218,2127,3200,4619,6337,9199,12691,17048,25105],\n",
        "        'uzytkownicy': [1104,2071,3064,3919,4682,5336,6067,7014,8143],\n",
        "        'koszty': [548,1368,2711,5036,6372,9526,14240,17421,24719]\n",
        "        }\n",
        "\n",
        "dane2009_2017_users = {'uzytkownicy_kwartalnie': [100,197,242,305,360,431,482,\n",
        "                                                  550,608,680,739,\n",
        "                                  800,845,901,955,1007,1056,1110,1155,1189,\n",
        "                                  1228,1276,1317,1350,1393,1441,1490,1545,1591,\n",
        "                                  1654,1712,1788,1860,1936,2006,2072,2129],\n",
        "        'indeks_kwartalu': [7,8,9,10,11,12,13,14,15,16,17,18,19,20,21,22,23,24,\n",
        "                            25,26,27,28,29,30,31,32,33,34,35,36,37,38,39,40,41,\n",
        "                            42,43],}\n",
        "\n",
        "\n",
        "# dane pochodzące z treści zadania rozszerzone o lata 2018 - 2021\n",
        "\n",
        "dane2009_2021 = {'indeks_roku': [1,2,3,4,5,6,7,8,9,10,11,12,13],\n",
        "        'przychod': [777,1974,3711,5089,7872,12466,17928,27638,40653,55838,70697,\n",
        "                     85965,117929],\n",
        "        'zysk': [229,606,1000,53,1500,2940,3688,10217,15934,22112,18485,29146,\n",
        "                 39370],\n",
        "        'zatrudnienie': [1218,2127,3200,4619,6337,9199,12691,17048,25105,35587,\n",
        "                         44942,58604,71970],\n",
        "        'uzytkownicy': [1104,2071,3064,3919,4682,5336,6067,7014,8143,9021,9736,\n",
        "                        10841,11570],\n",
        "        'koszty': [548,1368,2711,5036,6372,9526,14240,17421,24719,33726,52212,\n",
        "                   56819,78559],\n",
        "        }\n",
        "\n",
        "\n",
        "df_do_2017 = pd.DataFrame(dane2009_2017)\n",
        "df_do_2021 = pd.DataFrame(dane2009_2021)\n",
        "df_do_2017_users = pd.DataFrame(dane2009_2017_users)"
      ],
      "metadata": {
        "id": "tMwXf_JcB-qc"
      },
      "execution_count": null,
      "outputs": []
    },
    {
      "cell_type": "markdown",
      "source": [
        "**Estymacja parametrów**\n"
      ],
      "metadata": {
        "id": "z0g4FDwmJyZs"
      }
    },
    {
      "cell_type": "markdown",
      "source": [
        "## Przychód jako zmienna zależna od liczby użytkowników i zatrudnienia"
      ],
      "metadata": {
        "id": "7Y-PhE6NMnje"
      }
    },
    {
      "cell_type": "markdown",
      "source": [
        "Zadeklarowanie listy zmiennych objaśnianych (y) oraz objaśniających (x):"
      ],
      "metadata": {
        "id": "oOK33k-OKswh"
      }
    },
    {
      "cell_type": "code",
      "source": [
        "x = df_do_2017[['zatrudnienie', 'uzytkownicy']]\n",
        "y = df_do_2017['przychod']\n",
        "\n",
        "print(x)"
      ],
      "metadata": {
        "colab": {
          "base_uri": "https://localhost:8080/"
        },
        "id": "6EKJ5LbiKTLQ",
        "outputId": "6398f492-c1b2-4a8e-838d-3316b92d5a60"
      },
      "execution_count": null,
      "outputs": [
        {
          "output_type": "stream",
          "name": "stdout",
          "text": [
            "   zatrudnienie  uzytkownicy\n",
            "0          1218         1104\n",
            "1          2127         2071\n",
            "2          3200         3064\n",
            "3          4619         3919\n",
            "4          6337         4682\n",
            "5          9199         5336\n",
            "6         12691         6067\n",
            "7         17048         7014\n",
            "8         25105         8143\n"
          ]
        }
      ]
    },
    {
      "cell_type": "code",
      "source": [
        "x = sm.add_constant(x)\n",
        "\n",
        "model = sm.OLS(y, x)"
      ],
      "metadata": {
        "id": "t8bvqJ6rO9KC",
        "colab": {
          "base_uri": "https://localhost:8080/"
        },
        "outputId": "5300d2b5-ae9a-41ad-bbc5-d966b8996d67"
      },
      "execution_count": null,
      "outputs": [
        {
          "output_type": "stream",
          "name": "stderr",
          "text": [
            "/usr/local/lib/python3.8/dist-packages/statsmodels/tsa/tsatools.py:142: FutureWarning: In a future version of pandas all arguments of concat except for the argument 'objs' will be keyword-only\n",
            "  x = pd.concat(x[::order], 1)\n"
          ]
        }
      ]
    },
    {
      "cell_type": "code",
      "source": [
        "estymacja = model.fit()\n",
        "\n",
        "a0 = estymacja.params['const']\n",
        "a1 = estymacja.params['zatrudnienie']\n",
        "a2 = estymacja.params['uzytkownicy']\n"
      ],
      "metadata": {
        "id": "Ug-TVQu3PJ18"
      },
      "execution_count": null,
      "outputs": []
    },
    {
      "cell_type": "code",
      "source": [
        "print(estymacja.summary())"
      ],
      "metadata": {
        "colab": {
          "base_uri": "https://localhost:8080/"
        },
        "id": "evswAR2uQnza",
        "outputId": "f4384ca8-25e9-4b71-bce8-535a071a2454"
      },
      "execution_count": null,
      "outputs": [
        {
          "output_type": "stream",
          "name": "stdout",
          "text": [
            "                            OLS Regression Results                            \n",
            "==============================================================================\n",
            "Dep. Variable:               przychod   R-squared:                       0.998\n",
            "Model:                            OLS   Adj. R-squared:                  0.997\n",
            "Method:                 Least Squares   F-statistic:                     1515.\n",
            "Date:                Sat, 21 Jan 2023   Prob (F-statistic):           7.72e-09\n",
            "Time:                        15:31:59   Log-Likelihood:                -69.789\n",
            "No. Observations:                   9   AIC:                             145.6\n",
            "Df Residuals:                       6   BIC:                             146.2\n",
            "Df Model:                           2                                         \n",
            "Covariance Type:            nonrobust                                         \n",
            "================================================================================\n",
            "                   coef    std err          t      P>|t|      [0.025      0.975]\n",
            "--------------------------------------------------------------------------------\n",
            "const         -492.3111    767.978     -0.641      0.545   -2371.486    1386.864\n",
            "zatrudnienie     1.9088      0.093     20.599      0.000       1.682       2.136\n",
            "uzytkownicy     -0.7998      0.319     -2.503      0.046      -1.582      -0.018\n",
            "==============================================================================\n",
            "Omnibus:                        2.543   Durbin-Watson:                   2.787\n",
            "Prob(Omnibus):                  0.280   Jarque-Bera (JB):                0.562\n",
            "Skew:                           0.596   Prob(JB):                        0.755\n",
            "Kurtosis:                       3.283   Cond. No.                     4.25e+04\n",
            "==============================================================================\n",
            "\n",
            "Notes:\n",
            "[1] Standard Errors assume that the covariance matrix of the errors is correctly specified.\n",
            "[2] The condition number is large, 4.25e+04. This might indicate that there are\n",
            "strong multicollinearity or other numerical problems.\n"
          ]
        },
        {
          "output_type": "stream",
          "name": "stderr",
          "text": [
            "/usr/local/lib/python3.8/dist-packages/scipy/stats/stats.py:1541: UserWarning: kurtosistest only valid for n>=20 ... continuing anyway, n=9\n",
            "  warnings.warn(\"kurtosistest only valid for n>=20 ... continuing \"\n"
          ]
        }
      ]
    },
    {
      "cell_type": "markdown",
      "source": [
        "## Liczba użytkowników w funkcji czasu"
      ],
      "metadata": {
        "id": "DqGA--ZQM3_U"
      }
    },
    {
      "cell_type": "code",
      "source": [
        "x = df_do_2017_users['indeks_kwartalu']\n",
        "y = df_do_2017_users['uzytkownicy_kwartalnie']\n",
        "\n",
        "print(y)"
      ],
      "metadata": {
        "colab": {
          "base_uri": "https://localhost:8080/"
        },
        "id": "lIhcr-3xM2nY",
        "outputId": "9d972cff-38a4-41da-c864-1b32a504e8b8"
      },
      "execution_count": null,
      "outputs": [
        {
          "output_type": "stream",
          "name": "stdout",
          "text": [
            "0      100\n",
            "1      197\n",
            "2      242\n",
            "3      305\n",
            "4      360\n",
            "5      431\n",
            "6      482\n",
            "7      550\n",
            "8      608\n",
            "9      680\n",
            "10     739\n",
            "11     800\n",
            "12     845\n",
            "13     901\n",
            "14     955\n",
            "15    1007\n",
            "16    1056\n",
            "17    1110\n",
            "18    1155\n",
            "19    1189\n",
            "20    1228\n",
            "21    1276\n",
            "22    1317\n",
            "23    1350\n",
            "24    1393\n",
            "25    1441\n",
            "26    1490\n",
            "27    1545\n",
            "28    1591\n",
            "29    1654\n",
            "30    1712\n",
            "31    1788\n",
            "32    1860\n",
            "33    1936\n",
            "34    2006\n",
            "35    2072\n",
            "36    2129\n",
            "Name: uzytkownicy_kwartalnie, dtype: int64\n"
          ]
        }
      ]
    },
    {
      "cell_type": "code",
      "source": [
        "x = sm.add_constant(x)\n",
        "\n",
        "model = sm.OLS(y, x)"
      ],
      "metadata": {
        "colab": {
          "base_uri": "https://localhost:8080/"
        },
        "id": "1RUGF5oqM2nb",
        "outputId": "895d0983-d9e3-41ac-ec80-d63f10c28653"
      },
      "execution_count": null,
      "outputs": [
        {
          "output_type": "stream",
          "name": "stderr",
          "text": [
            "/usr/local/lib/python3.8/dist-packages/statsmodels/tsa/tsatools.py:142: FutureWarning: In a future version of pandas all arguments of concat except for the argument 'objs' will be keyword-only\n",
            "  x = pd.concat(x[::order], 1)\n"
          ]
        }
      ]
    },
    {
      "cell_type": "code",
      "source": [
        "estymacja = model.fit()\n",
        "\n",
        "a0 = estymacja.params['const']\n",
        "a1 = estymacja.params['indeks_kwartalu']\n"
      ],
      "metadata": {
        "id": "6sPFNhp4M2nc"
      },
      "execution_count": null,
      "outputs": []
    },
    {
      "cell_type": "code",
      "source": [
        "print(estymacja.summary())"
      ],
      "metadata": {
        "colab": {
          "base_uri": "https://localhost:8080/"
        },
        "id": "KKKSfGnCM2nc",
        "outputId": "fb420af5-0714-4e8c-8298-e3b2c7a582cf"
      },
      "execution_count": null,
      "outputs": [
        {
          "output_type": "stream",
          "name": "stdout",
          "text": [
            "                              OLS Regression Results                              \n",
            "==================================================================================\n",
            "Dep. Variable:     uzytkownicy_kwartalnie   R-squared:                       0.995\n",
            "Model:                                OLS   Adj. R-squared:                  0.995\n",
            "Method:                     Least Squares   F-statistic:                     7729.\n",
            "Date:                    Sat, 21 Jan 2023   Prob (F-statistic):           1.18e-42\n",
            "Time:                            15:31:59   Log-Likelihood:                -187.07\n",
            "No. Observations:                      37   AIC:                             378.1\n",
            "Df Residuals:                          35   BIC:                             381.4\n",
            "Df Model:                               1                                         \n",
            "Covariance Type:                nonrobust                                         \n",
            "===================================================================================\n",
            "                      coef    std err          t      P>|t|      [0.025      0.975]\n",
            "-----------------------------------------------------------------------------------\n",
            "const            -199.8103     16.344    -12.225      0.000    -232.990    -166.631\n",
            "indeks_kwartalu    52.8573      0.601     87.917      0.000      51.637      54.078\n",
            "==============================================================================\n",
            "Omnibus:                       13.027   Durbin-Watson:                   0.125\n",
            "Prob(Omnibus):                  0.001   Jarque-Bera (JB):                2.945\n",
            "Skew:                          -0.159   Prob(JB):                        0.229\n",
            "Kurtosis:                       1.655   Cond. No.                         69.3\n",
            "==============================================================================\n",
            "\n",
            "Notes:\n",
            "[1] Standard Errors assume that the covariance matrix of the errors is correctly specified.\n"
          ]
        }
      ]
    },
    {
      "cell_type": "markdown",
      "source": [
        "## Wielkość zatrudnienia jako zmienna zależna od liczby użytkowników"
      ],
      "metadata": {
        "id": "x6QCRAlAM8WM"
      }
    },
    {
      "cell_type": "code",
      "source": [
        "x = df_do_2017['uzytkownicy']\n",
        "y = df_do_2017['zatrudnienie']\n",
        "\n",
        "print(x)"
      ],
      "metadata": {
        "colab": {
          "base_uri": "https://localhost:8080/"
        },
        "id": "eblAwspKNECn",
        "outputId": "234dcdd4-4147-431d-bd39-80d0aa30a83e"
      },
      "execution_count": null,
      "outputs": [
        {
          "output_type": "stream",
          "name": "stdout",
          "text": [
            "0    1104\n",
            "1    2071\n",
            "2    3064\n",
            "3    3919\n",
            "4    4682\n",
            "5    5336\n",
            "6    6067\n",
            "7    7014\n",
            "8    8143\n",
            "Name: uzytkownicy, dtype: int64\n"
          ]
        }
      ]
    },
    {
      "cell_type": "code",
      "source": [
        "x = sm.add_constant(x)\n",
        "\n",
        "model = sm.OLS(y, x)"
      ],
      "metadata": {
        "colab": {
          "base_uri": "https://localhost:8080/"
        },
        "id": "e03sCskrNECp",
        "outputId": "b0e122dc-cded-4af4-88dd-eeb311b0449b"
      },
      "execution_count": null,
      "outputs": [
        {
          "output_type": "stream",
          "name": "stderr",
          "text": [
            "/usr/local/lib/python3.8/dist-packages/statsmodels/tsa/tsatools.py:142: FutureWarning: In a future version of pandas all arguments of concat except for the argument 'objs' will be keyword-only\n",
            "  x = pd.concat(x[::order], 1)\n"
          ]
        }
      ]
    },
    {
      "cell_type": "code",
      "source": [
        "estymacja = model.fit()\n",
        "\n",
        "a0 = estymacja.params['const']\n",
        "a1 = estymacja.params['uzytkownicy']\n",
        "\n"
      ],
      "metadata": {
        "id": "3WMSHjmsNECq"
      },
      "execution_count": null,
      "outputs": []
    },
    {
      "cell_type": "code",
      "source": [
        "print(estymacja.summary())"
      ],
      "metadata": {
        "colab": {
          "base_uri": "https://localhost:8080/"
        },
        "id": "ZVlm-MFqNECr",
        "outputId": "b2e3922d-e051-4a3d-df24-26f5e3d116d0"
      },
      "execution_count": null,
      "outputs": [
        {
          "output_type": "stream",
          "name": "stdout",
          "text": [
            "                            OLS Regression Results                            \n",
            "==============================================================================\n",
            "Dep. Variable:           zatrudnienie   R-squared:                       0.890\n",
            "Model:                            OLS   Adj. R-squared:                  0.874\n",
            "Method:                 Least Squares   F-statistic:                     56.63\n",
            "Date:                Sat, 21 Jan 2023   Prob (F-statistic):           0.000134\n",
            "Time:                        15:31:59   Log-Likelihood:                -83.135\n",
            "No. Observations:                   9   AIC:                             170.3\n",
            "Df Residuals:                       7   BIC:                             170.7\n",
            "Df Model:                           1                                         \n",
            "Covariance Type:            nonrobust                                         \n",
            "===============================================================================\n",
            "                  coef    std err          t      P>|t|      [0.025      0.975]\n",
            "-------------------------------------------------------------------------------\n",
            "const       -5902.0191   2199.084     -2.684      0.031   -1.11e+04    -702.013\n",
            "uzytkownicy     3.2527      0.432      7.525      0.000       2.231       4.275\n",
            "==============================================================================\n",
            "Omnibus:                        1.295   Durbin-Watson:                   0.625\n",
            "Prob(Omnibus):                  0.523   Jarque-Bera (JB):                0.926\n",
            "Skew:                           0.630   Prob(JB):                        0.629\n",
            "Kurtosis:                       2.061   Cond. No.                     1.19e+04\n",
            "==============================================================================\n",
            "\n",
            "Notes:\n",
            "[1] Standard Errors assume that the covariance matrix of the errors is correctly specified.\n",
            "[2] The condition number is large, 1.19e+04. This might indicate that there are\n",
            "strong multicollinearity or other numerical problems.\n"
          ]
        },
        {
          "output_type": "stream",
          "name": "stderr",
          "text": [
            "/usr/local/lib/python3.8/dist-packages/scipy/stats/stats.py:1541: UserWarning: kurtosistest only valid for n>=20 ... continuing anyway, n=9\n",
            "  warnings.warn(\"kurtosistest only valid for n>=20 ... continuing \"\n"
          ]
        }
      ]
    },
    {
      "cell_type": "markdown",
      "source": [
        "## Rozbudowanie modeli o dane do 2021 roku"
      ],
      "metadata": {
        "id": "Zx7HcOoMVRbS"
      }
    },
    {
      "cell_type": "markdown",
      "source": [
        "### Przychód jako zmienna zależna od liczby użytkowników i zatrudnienia\n",
        "\n"
      ],
      "metadata": {
        "id": "A2bSI0JuVNP_"
      }
    },
    {
      "cell_type": "code",
      "source": [
        "x = df_do_2021[['zatrudnienie', 'uzytkownicy']]\n",
        "y = df_do_2021['przychod']"
      ],
      "metadata": {
        "id": "3gbOTg2eZKGV"
      },
      "execution_count": null,
      "outputs": []
    },
    {
      "cell_type": "code",
      "source": [
        "x = sm.add_constant(x)\n",
        "\n",
        "model = sm.OLS(y, x)"
      ],
      "metadata": {
        "colab": {
          "base_uri": "https://localhost:8080/"
        },
        "id": "zwS6aP12ZKGX",
        "outputId": "ae120812-4e4d-4902-9021-076f3145dac5"
      },
      "execution_count": null,
      "outputs": [
        {
          "output_type": "stream",
          "name": "stderr",
          "text": [
            "/usr/local/lib/python3.8/dist-packages/statsmodels/tsa/tsatools.py:142: FutureWarning: In a future version of pandas all arguments of concat except for the argument 'objs' will be keyword-only\n",
            "  x = pd.concat(x[::order], 1)\n"
          ]
        }
      ]
    },
    {
      "cell_type": "code",
      "source": [
        "estymacja = model.fit()\n",
        "\n",
        "a0 = estymacja.params['const']\n",
        "a1 = estymacja.params['zatrudnienie']\n",
        "a2 = estymacja.params['uzytkownicy']\n"
      ],
      "metadata": {
        "id": "3vFOkMyYZKGX"
      },
      "execution_count": null,
      "outputs": []
    },
    {
      "cell_type": "code",
      "source": [
        "print(estymacja.summary())"
      ],
      "metadata": {
        "colab": {
          "base_uri": "https://localhost:8080/"
        },
        "id": "ALAk_7RWZKGY",
        "outputId": "2cd8a6f6-ee31-44a6-b924-844d3d989645"
      },
      "execution_count": null,
      "outputs": [
        {
          "output_type": "stream",
          "name": "stdout",
          "text": [
            "                            OLS Regression Results                            \n",
            "==============================================================================\n",
            "Dep. Variable:               przychod   R-squared:                       0.996\n",
            "Model:                            OLS   Adj. R-squared:                  0.995\n",
            "Method:                 Least Squares   F-statistic:                     1237.\n",
            "Date:                Sat, 21 Jan 2023   Prob (F-statistic):           1.06e-12\n",
            "Time:                        15:31:59   Log-Likelihood:                -119.02\n",
            "No. Observations:                  13   AIC:                             244.0\n",
            "Df Residuals:                      10   BIC:                             245.7\n",
            "Df Model:                           2                                         \n",
            "Covariance Type:            nonrobust                                         \n",
            "================================================================================\n",
            "                   coef    std err          t      P>|t|      [0.025      0.975]\n",
            "--------------------------------------------------------------------------------\n",
            "const        -1470.7073   2307.987     -0.637      0.538   -6613.223    3671.808\n",
            "zatrudnienie     1.6094      0.090     17.967      0.000       1.410       1.809\n",
            "uzytkownicy     -0.0402      0.622     -0.065      0.950      -1.426       1.345\n",
            "==============================================================================\n",
            "Omnibus:                       11.097   Durbin-Watson:                   2.427\n",
            "Prob(Omnibus):                  0.004   Jarque-Bera (JB):                6.921\n",
            "Skew:                          -1.197   Prob(JB):                       0.0314\n",
            "Kurtosis:                       5.655   Cond. No.                     1.04e+05\n",
            "==============================================================================\n",
            "\n",
            "Notes:\n",
            "[1] Standard Errors assume that the covariance matrix of the errors is correctly specified.\n",
            "[2] The condition number is large, 1.04e+05. This might indicate that there are\n",
            "strong multicollinearity or other numerical problems.\n"
          ]
        },
        {
          "output_type": "stream",
          "name": "stderr",
          "text": [
            "/usr/local/lib/python3.8/dist-packages/scipy/stats/stats.py:1541: UserWarning: kurtosistest only valid for n>=20 ... continuing anyway, n=13\n",
            "  warnings.warn(\"kurtosistest only valid for n>=20 ... continuing \"\n"
          ]
        }
      ]
    },
    {
      "cell_type": "markdown",
      "source": [
        "### Liczba użytkowników w funkcji czasu"
      ],
      "metadata": {
        "id": "hkhj5l1gWGKT"
      }
    },
    {
      "cell_type": "code",
      "source": [
        "dane2009_2021_users = {'uzytkownicy_kwartalnie': [100,197,242,305,360,431,482,\n",
        "                                                  550,608,680,739,800,845,901,\n",
        "                                                  955,1007,1056,1110,1155,1189,\n",
        "                                                  1228,1276,1317,1350,1393,1441,\n",
        "                                                  1490,1545,1591,1654,1712,1788,\n",
        "                                                  1860,1936,2006,2072,2129,2196,\n",
        "                                                  2234,2271,2320,2375,2414,2449,\n",
        "                                                  2498,2603,2701,2740,2797,2853,\n",
        "                                                  2895,2910,2912],\n",
        "        'indeks_kwartalu': [1,2,3,4,5,6,7,8,9,10,11,12,13,14,15,16,17,18,19,20,\n",
        "                            21,22,23,24,25,26,27,28,29,30,31,32,33,34,35,36,37,\n",
        "                            38,39,40,41,42,43,44,45,46,47,48,49,50,51,52,53],}\n",
        "\n",
        "df_do_2021_users = pd.DataFrame(dane2009_2021_users)"
      ],
      "metadata": {
        "id": "mdmobr5sWWup"
      },
      "execution_count": null,
      "outputs": []
    },
    {
      "cell_type": "code",
      "source": [
        "x = df_do_2021_users['indeks_kwartalu']\n",
        "y = df_do_2021_users['uzytkownicy_kwartalnie']\n",
        "\n",
        "print(y)"
      ],
      "metadata": {
        "colab": {
          "base_uri": "https://localhost:8080/"
        },
        "id": "DuKw5DZXYiWI",
        "outputId": "766d11e8-9c5c-4f79-9512-8e46ed80d968"
      },
      "execution_count": null,
      "outputs": [
        {
          "output_type": "stream",
          "name": "stdout",
          "text": [
            "0      100\n",
            "1      197\n",
            "2      242\n",
            "3      305\n",
            "4      360\n",
            "5      431\n",
            "6      482\n",
            "7      550\n",
            "8      608\n",
            "9      680\n",
            "10     739\n",
            "11     800\n",
            "12     845\n",
            "13     901\n",
            "14     955\n",
            "15    1007\n",
            "16    1056\n",
            "17    1110\n",
            "18    1155\n",
            "19    1189\n",
            "20    1228\n",
            "21    1276\n",
            "22    1317\n",
            "23    1350\n",
            "24    1393\n",
            "25    1441\n",
            "26    1490\n",
            "27    1545\n",
            "28    1591\n",
            "29    1654\n",
            "30    1712\n",
            "31    1788\n",
            "32    1860\n",
            "33    1936\n",
            "34    2006\n",
            "35    2072\n",
            "36    2129\n",
            "37    2196\n",
            "38    2234\n",
            "39    2271\n",
            "40    2320\n",
            "41    2375\n",
            "42    2414\n",
            "43    2449\n",
            "44    2498\n",
            "45    2603\n",
            "46    2701\n",
            "47    2740\n",
            "48    2797\n",
            "49    2853\n",
            "50    2895\n",
            "51    2910\n",
            "52    2912\n",
            "Name: uzytkownicy_kwartalnie, dtype: int64\n"
          ]
        }
      ]
    },
    {
      "cell_type": "code",
      "source": [
        "x = sm.add_constant(x)\n",
        "\n",
        "model = sm.OLS(y, x)"
      ],
      "metadata": {
        "colab": {
          "base_uri": "https://localhost:8080/"
        },
        "id": "T67jEV7gYiWJ",
        "outputId": "5a03a0ed-cc27-48a0-cccf-5eecab691e54"
      },
      "execution_count": null,
      "outputs": [
        {
          "output_type": "stream",
          "name": "stderr",
          "text": [
            "/usr/local/lib/python3.8/dist-packages/statsmodels/tsa/tsatools.py:142: FutureWarning: In a future version of pandas all arguments of concat except for the argument 'objs' will be keyword-only\n",
            "  x = pd.concat(x[::order], 1)\n"
          ]
        }
      ]
    },
    {
      "cell_type": "code",
      "source": [
        "estymacja = model.fit()\n",
        "\n",
        "a0 = estymacja.params['const']\n",
        "a1 = estymacja.params['indeks_kwartalu']\n"
      ],
      "metadata": {
        "id": "A8fNW7ahYiWJ"
      },
      "execution_count": null,
      "outputs": []
    },
    {
      "cell_type": "code",
      "source": [
        "print(estymacja.summary())"
      ],
      "metadata": {
        "colab": {
          "base_uri": "https://localhost:8080/"
        },
        "id": "jExHYXiNYiWJ",
        "outputId": "d9af3480-caeb-4b6f-8a5b-21fc5395e4c7"
      },
      "execution_count": null,
      "outputs": [
        {
          "output_type": "stream",
          "name": "stdout",
          "text": [
            "                              OLS Regression Results                              \n",
            "==================================================================================\n",
            "Dep. Variable:     uzytkownicy_kwartalnie   R-squared:                       0.998\n",
            "Model:                                OLS   Adj. R-squared:                  0.998\n",
            "Method:                     Least Squares   F-statistic:                 2.306e+04\n",
            "Date:                    Sat, 21 Jan 2023   Prob (F-statistic):           2.06e-69\n",
            "Time:                            15:31:59   Log-Likelihood:                -269.26\n",
            "No. Observations:                      53   AIC:                             542.5\n",
            "Df Residuals:                          51   BIC:                             546.5\n",
            "Df Model:                               1                                         \n",
            "Covariance Type:                nonrobust                                         \n",
            "===================================================================================\n",
            "                      coef    std err          t      P>|t|      [0.025      0.975]\n",
            "-----------------------------------------------------------------------------------\n",
            "const              99.2286     11.055      8.976      0.000      77.034     121.423\n",
            "indeks_kwartalu    54.0943      0.356    151.842      0.000      53.379      54.809\n",
            "==============================================================================\n",
            "Omnibus:                        7.592   Durbin-Watson:                   0.211\n",
            "Prob(Omnibus):                  0.022   Jarque-Bera (JB):                3.796\n",
            "Skew:                          -0.425   Prob(JB):                        0.150\n",
            "Kurtosis:                       2.001   Cond. No.                         63.0\n",
            "==============================================================================\n",
            "\n",
            "Notes:\n",
            "[1] Standard Errors assume that the covariance matrix of the errors is correctly specified.\n"
          ]
        }
      ]
    },
    {
      "cell_type": "markdown",
      "source": [
        "### Wielkość zatrudnienia jako zmienna zależna od liczby użytkowników"
      ],
      "metadata": {
        "id": "YlB_Ot55WKub"
      }
    },
    {
      "cell_type": "code",
      "source": [
        "x = df_do_2021['uzytkownicy']\n",
        "y = df_do_2021['zatrudnienie']\n",
        "\n",
        "print(y)"
      ],
      "metadata": {
        "colab": {
          "base_uri": "https://localhost:8080/"
        },
        "id": "AhP5qNd5YhoO",
        "outputId": "928510ff-7151-45ef-e5dc-2ba5f7aa4544"
      },
      "execution_count": null,
      "outputs": [
        {
          "output_type": "stream",
          "name": "stdout",
          "text": [
            "0      1218\n",
            "1      2127\n",
            "2      3200\n",
            "3      4619\n",
            "4      6337\n",
            "5      9199\n",
            "6     12691\n",
            "7     17048\n",
            "8     25105\n",
            "9     35587\n",
            "10    44942\n",
            "11    58604\n",
            "12    71970\n",
            "Name: zatrudnienie, dtype: int64\n"
          ]
        }
      ]
    },
    {
      "cell_type": "code",
      "source": [
        "x = sm.add_constant(x)\n",
        "\n",
        "model = sm.OLS(y, x)"
      ],
      "metadata": {
        "colab": {
          "base_uri": "https://localhost:8080/"
        },
        "id": "ZeFG5YhYYhoQ",
        "outputId": "4c11b142-1a51-4d6c-d3e7-c7648bcb127d"
      },
      "execution_count": null,
      "outputs": [
        {
          "output_type": "stream",
          "name": "stderr",
          "text": [
            "/usr/local/lib/python3.8/dist-packages/statsmodels/tsa/tsatools.py:142: FutureWarning: In a future version of pandas all arguments of concat except for the argument 'objs' will be keyword-only\n",
            "  x = pd.concat(x[::order], 1)\n"
          ]
        }
      ]
    },
    {
      "cell_type": "code",
      "source": [
        "estymacja = model.fit()\n",
        "\n",
        "a0 = estymacja.params['const']\n",
        "a1 = estymacja.params['uzytkownicy']\n"
      ],
      "metadata": {
        "id": "YqgS8iORYhoR"
      },
      "execution_count": null,
      "outputs": []
    },
    {
      "cell_type": "code",
      "source": [
        "print(estymacja.summary())"
      ],
      "metadata": {
        "colab": {
          "base_uri": "https://localhost:8080/"
        },
        "id": "hUoKE_PpYhoR",
        "outputId": "9c16e713-763e-4916-a478-8f7d9c56cdd6"
      },
      "execution_count": null,
      "outputs": [
        {
          "output_type": "stream",
          "name": "stdout",
          "text": [
            "                            OLS Regression Results                            \n",
            "==============================================================================\n",
            "Dep. Variable:           zatrudnienie   R-squared:                       0.870\n",
            "Model:                            OLS   Adj. R-squared:                  0.859\n",
            "Method:                 Least Squares   F-statistic:                     73.85\n",
            "Date:                Sat, 21 Jan 2023   Prob (F-statistic):           3.29e-06\n",
            "Time:                        15:31:59   Log-Likelihood:                -135.42\n",
            "No. Observations:                  13   AIC:                             274.8\n",
            "Df Residuals:                      11   BIC:                             276.0\n",
            "Df Model:                           1                                         \n",
            "Covariance Type:            nonrobust                                         \n",
            "===============================================================================\n",
            "                  coef    std err          t      P>|t|      [0.025      0.975]\n",
            "-------------------------------------------------------------------------------\n",
            "const       -1.862e+04   5371.020     -3.466      0.005   -3.04e+04   -6794.744\n",
            "uzytkownicy     6.4754      0.754      8.594      0.000       4.817       8.134\n",
            "==============================================================================\n",
            "Omnibus:                        1.565   Durbin-Watson:                   0.299\n",
            "Prob(Omnibus):                  0.457   Jarque-Bera (JB):                1.186\n",
            "Skew:                           0.571   Prob(JB):                        0.553\n",
            "Kurtosis:                       2.058   Cond. No.                     1.57e+04\n",
            "==============================================================================\n",
            "\n",
            "Notes:\n",
            "[1] Standard Errors assume that the covariance matrix of the errors is correctly specified.\n",
            "[2] The condition number is large, 1.57e+04. This might indicate that there are\n",
            "strong multicollinearity or other numerical problems.\n"
          ]
        },
        {
          "output_type": "stream",
          "name": "stderr",
          "text": [
            "/usr/local/lib/python3.8/dist-packages/scipy/stats/stats.py:1541: UserWarning: kurtosistest only valid for n>=20 ... continuing anyway, n=13\n",
            "  warnings.warn(\"kurtosistest only valid for n>=20 ... continuing \"\n"
          ]
        }
      ]
    },
    {
      "cell_type": "markdown",
      "source": [
        "## Prognoza na 2022 rok"
      ],
      "metadata": {
        "id": "MKsvGC7sOwkY"
      }
    },
    {
      "cell_type": "markdown",
      "source": [
        "###Przychód"
      ],
      "metadata": {
        "id": "AVinQ02DPXxv"
      }
    },
    {
      "cell_type": "markdown",
      "source": [
        "model: Y = 1.6094X1 – 0.0402X2 – 1470.7073\n",
        "\n",
        "\n",
        "dane prognozowane na rok 2022:\n",
        "\n",
        "\n"
      ],
      "metadata": {
        "id": "uCpPPUvPPlG7"
      }
    },
    {
      "cell_type": "code",
      "source": [
        "a1 = 1.6094\n",
        "a2 = -0.0402\n",
        "a0 = -1470.7073\n",
        "\n",
        "zatrudnienie = 61712.40335296\n",
        "uzytkownicy = 12405.7824\n",
        "\n"
      ],
      "metadata": {
        "id": "Ok9as-QgPg06"
      },
      "execution_count": 86,
      "outputs": []
    },
    {
      "cell_type": "code",
      "source": [
        "forecast = (a1 * zatrudnienie) + (a2 * uzytkownicy) + a0\n",
        "print(forecast)"
      ],
      "metadata": {
        "colab": {
          "base_uri": "https://localhost:8080/"
        },
        "id": "UlT4DbpzXRl0",
        "outputId": "d7c7a1d3-aa32-477e-d9f3-e9320c50ada3"
      },
      "execution_count": 87,
      "outputs": [
        {
          "output_type": "stream",
          "name": "stdout",
          "text": [
            "97350.52220377383\n"
          ]
        }
      ]
    },
    {
      "cell_type": "markdown",
      "source": [
        "###Liczba użytkowników"
      ],
      "metadata": {
        "id": "i1PGNrsaPbXY"
      }
    },
    {
      "cell_type": "markdown",
      "source": [
        "Model: Y = 54.0943X + 99.2286\n",
        "szukane indeksy kwartałów: 54, 55, 56, 57"
      ],
      "metadata": {
        "id": "9InW2ucBPtO8"
      }
    },
    {
      "cell_type": "code",
      "source": [
        "a1 = 54.094\n",
        "a0 = 99.2286"
      ],
      "metadata": {
        "id": "6jbrCDtrTNWV"
      },
      "execution_count": 75,
      "outputs": []
    },
    {
      "cell_type": "code",
      "source": [
        "forecast = (a1 * 54 + a0) + (a1 * 55 + a0) + (a1 * 56 + a0) + (a1 * 57 + a0)\n",
        "print(forecast)\n"
      ],
      "metadata": {
        "colab": {
          "base_uri": "https://localhost:8080/"
        },
        "id": "-vo5TGpXPhxF",
        "outputId": "9d532e1e-3d97-425e-d053-5d5ab1638bd2"
      },
      "execution_count": 81,
      "outputs": [
        {
          "output_type": "stream",
          "name": "stdout",
          "text": [
            "12405.7824\n",
            "3182.5866\n"
          ]
        }
      ]
    },
    {
      "cell_type": "markdown",
      "source": [
        "Wielkość zatrudnienia"
      ],
      "metadata": {
        "id": "lP51riHkWHTt"
      }
    },
    {
      "cell_type": "code",
      "source": [
        "a1 = 6.4754\n",
        "a0 = -18620\n",
        "users_forecast = 12405.7824"
      ],
      "metadata": {
        "id": "2Ls54HYQWKWn"
      },
      "execution_count": 82,
      "outputs": []
    },
    {
      "cell_type": "code",
      "source": [
        "forecast = (a1 * users_forecast + a0)\n",
        "print(forecast)"
      ],
      "metadata": {
        "colab": {
          "base_uri": "https://localhost:8080/"
        },
        "id": "90B-OanrWU2n",
        "outputId": "6ded431b-0e1e-4062-9e98-6843c67b0fe4"
      },
      "execution_count": 83,
      "outputs": [
        {
          "output_type": "stream",
          "name": "stdout",
          "text": [
            "61712.40335296\n"
          ]
        }
      ]
    }
  ]
}