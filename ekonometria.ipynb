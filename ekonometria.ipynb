{
  "nbformat": 4,
  "nbformat_minor": 0,
  "metadata": {
    "colab": {
      "provenance": [],
      "authorship_tag": "ABX9TyPM3mREGOAj+ENstvLODiE6"
    },
    "kernelspec": {
      "name": "python3",
      "display_name": "Python 3"
    },
    "language_info": {
      "name": "python"
    }
  },
  "cells": [
    {
      "cell_type": "code",
      "source": [
        "pip install sklearn"
      ],
      "metadata": {
        "colab": {
          "base_uri": "https://localhost:8080/"
        },
        "id": "fzdisQHc2aLK",
        "outputId": "306033aa-c9ff-4e6d-cd67-685870cd1717"
      },
      "execution_count": null,
      "outputs": [
        {
          "output_type": "stream",
          "name": "stdout",
          "text": [
            "Looking in indexes: https://pypi.org/simple, https://us-python.pkg.dev/colab-wheels/public/simple/\n",
            "Requirement already satisfied: sklearn in /usr/local/lib/python3.8/dist-packages (0.0.post1)\n"
          ]
        }
      ]
    },
    {
      "cell_type": "code",
      "source": [
        "pip install statsmodels"
      ],
      "metadata": {
        "id": "cMjifkfJatbC",
        "colab": {
          "base_uri": "https://localhost:8080/"
        },
        "outputId": "0d1091ac-14f2-4ed9-d8ef-f1b9347bb54a"
      },
      "execution_count": 1,
      "outputs": [
        {
          "output_type": "stream",
          "name": "stdout",
          "text": [
            "Looking in indexes: https://pypi.org/simple, https://us-python.pkg.dev/colab-wheels/public/simple/\n",
            "Requirement already satisfied: statsmodels in /usr/local/lib/python3.8/dist-packages (0.12.2)\n",
            "Requirement already satisfied: scipy>=1.1 in /usr/local/lib/python3.8/dist-packages (from statsmodels) (1.7.3)\n",
            "Requirement already satisfied: patsy>=0.5 in /usr/local/lib/python3.8/dist-packages (from statsmodels) (0.5.3)\n",
            "Requirement already satisfied: numpy>=1.15 in /usr/local/lib/python3.8/dist-packages (from statsmodels) (1.21.6)\n",
            "Requirement already satisfied: pandas>=0.21 in /usr/local/lib/python3.8/dist-packages (from statsmodels) (1.3.5)\n",
            "Requirement already satisfied: pytz>=2017.3 in /usr/local/lib/python3.8/dist-packages (from pandas>=0.21->statsmodels) (2022.7)\n",
            "Requirement already satisfied: python-dateutil>=2.7.3 in /usr/local/lib/python3.8/dist-packages (from pandas>=0.21->statsmodels) (2.8.2)\n",
            "Requirement already satisfied: six in /usr/local/lib/python3.8/dist-packages (from patsy>=0.5->statsmodels) (1.15.0)\n"
          ]
        }
      ]
    },
    {
      "cell_type": "code",
      "source": [
        "import pandas as pd\n",
        "from sklearn.linear_model import LinearRegression\n",
        "import statsmodels.api as sm"
      ],
      "metadata": {
        "id": "ObNzU5IJ2eCS"
      },
      "execution_count": 2,
      "outputs": []
    },
    {
      "cell_type": "code",
      "source": [
        "data = {'produkcja': [592,598,657,745,853,936,1004,1052,1088,1111,1166,1201,1272,1601,1625,1653,1917,2065,2293,2428,3176,3378,3406,4257,5159,8095,9849],\n",
        "        'x1': [151,140,162,137,145,214,236,211,214,186,240,246,253,259,320,305,537,498,275,453,522,284,691,714,836,1083,1565],\n",
        "        'x2': [357,875,280,769,1697,543,662,812,884,722,1078,1168,1562,2032,1619,1701,2109,2493,1711,3070,5687,3288,4558,5585,5206,9119,13989],\n",
        "        }\n",
        "\n",
        "df = pd.DataFrame(data)"
      ],
      "metadata": {
        "id": "T_WnsXdO2q-s"
      },
      "execution_count": 3,
      "outputs": []
    },
    {
      "cell_type": "code",
      "source": [
        "x = df[['x1','x2']]\n",
        "y = df['produkcja']"
      ],
      "metadata": {
        "id": "O_oVWVIp6aVx"
      },
      "execution_count": 4,
      "outputs": []
    },
    {
      "cell_type": "code",
      "source": [
        "regr = LinearRegression()\n",
        "regr.fit(x, y)\n",
        "\n",
        "print('Intercept: \\n', regr.intercept_)\n",
        "print('Coefficients: \\n', regr.coef_)\n"
      ],
      "metadata": {
        "colab": {
          "base_uri": "https://localhost:8080/"
        },
        "id": "WdBmP-eZ61JC",
        "outputId": "cdea0ac3-8f52-4151-f76f-d24ebf26c4db"
      },
      "execution_count": null,
      "outputs": [
        {
          "output_type": "stream",
          "name": "stdout",
          "text": [
            "Intercept: \n",
            " 115.25949003226424\n",
            "Coefficients: \n",
            " [2.33220384 0.47158873]\n"
          ]
        }
      ]
    },
    {
      "cell_type": "code",
      "source": [
        "x = sm.add_constant(x)\n",
        "\n",
        "model = sm.OLS(y, x).fit()\n",
        "\n",
        "print(model.summary())"
      ],
      "metadata": {
        "colab": {
          "base_uri": "https://localhost:8080/"
        },
        "id": "1Vart6Tvbghi",
        "outputId": "a692f679-bc2c-43d4-fd38-c4afe5dd4d4c"
      },
      "execution_count": 5,
      "outputs": [
        {
          "output_type": "stream",
          "name": "stdout",
          "text": [
            "                            OLS Regression Results                            \n",
            "==============================================================================\n",
            "Dep. Variable:              produkcja   R-squared:                       0.960\n",
            "Model:                            OLS   Adj. R-squared:                  0.956\n",
            "Method:                 Least Squares   F-statistic:                     286.4\n",
            "Date:                Sun, 15 Jan 2023   Prob (F-statistic):           1.79e-17\n",
            "Time:                        07:59:34   Log-Likelihood:                -202.84\n",
            "No. Observations:                  27   AIC:                             411.7\n",
            "Df Residuals:                      24   BIC:                             415.6\n",
            "Df Model:                           2                                         \n",
            "Covariance Type:            nonrobust                                         \n",
            "==============================================================================\n",
            "                 coef    std err          t      P>|t|      [0.025      0.975]\n",
            "------------------------------------------------------------------------------\n",
            "const        115.2595    173.205      0.665      0.512    -242.217     472.736\n",
            "x1             2.3322      1.038      2.246      0.034       0.190       4.475\n",
            "x2             0.4716      0.112      4.195      0.000       0.240       0.704\n",
            "==============================================================================\n",
            "Omnibus:                        7.274   Durbin-Watson:                   2.449\n",
            "Prob(Omnibus):                  0.026   Jarque-Bera (JB):                5.326\n",
            "Skew:                           0.971   Prob(JB):                       0.0697\n",
            "Kurtosis:                       3.983   Cond. No.                     7.84e+03\n",
            "==============================================================================\n",
            "\n",
            "Notes:\n",
            "[1] Standard Errors assume that the covariance matrix of the errors is correctly specified.\n",
            "[2] The condition number is large, 7.84e+03. This might indicate that there are\n",
            "strong multicollinearity or other numerical problems.\n"
          ]
        },
        {
          "output_type": "stream",
          "name": "stderr",
          "text": [
            "/usr/local/lib/python3.8/dist-packages/statsmodels/tsa/tsatools.py:142: FutureWarning: In a future version of pandas all arguments of concat except for the argument 'objs' will be keyword-only\n",
            "  x = pd.concat(x[::order], 1)\n"
          ]
        }
      ]
    }
  ]
}